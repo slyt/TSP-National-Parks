{
 "cells": [
  {
   "cell_type": "markdown",
   "metadata": {},
   "source": [
    "# Traveling Salesman Problem with National Parks\n",
    "In this notebook we will be solving the traveling salesman problem using US National Parks as the nodes. We will pick a random National Park as a starting point. We will then traverse all national parks by going to the nearest one and map the final route on a map.\n",
    "\n",
    "This project covers the following topics (in no particular order):\n",
    "- APIs\n",
    "- JSON\n",
    "\n",
    "I found DataQuest's [Introduction to Using APIs in Python](https://www.dataquest.io/blog/python-api-tutorial/) to be useful for learning how to use API/JSON in Python."
   ]
  },
  {
   "cell_type": "markdown",
   "metadata": {},
   "source": [
    "## Libraries"
   ]
  },
  {
   "cell_type": "code",
   "execution_count": 1,
   "metadata": {},
   "outputs": [],
   "source": [
    "import pandas as pd # pandas datastructure for reading and manipulating data\n",
    "import geopandas # used to create geographic maps\n",
    "from shapely.geometry import Point # used to help with geometry (points and polygons)\n",
    "import matplotlib.pyplot as plt\n",
    "from geopy.distance import geodesic # used to help measure geographic distances\n",
    "from geopy.geocoders import Nominatim # Used to convert place names/addresses to GPS coordinates\n",
    "import requests # Used to make API requests\n",
    "import json \n",
    "import time # used to delay API requests\n",
    "import random\n",
    "\n",
    "# Magic command to show plots in Jupyter\n",
    "%matplotlib inline "
   ]
  },
  {
   "cell_type": "markdown",
   "metadata": {},
   "source": [
    "## Mine Data\n",
    "We need a list of national parks and their GPS coordinates. To get a list of national parks, we can use the [National Park Services API](https://www.nps.gov/subjects/developer/api-documentation.htm) to mine the relevant data. We then want to convert the name of each park to it's GPS coordinates, this is called geocoding. [Nominatim](https://wiki.openstreetmap.org/wiki/Nominatim) is a service from OpenStreetMap (OSM) that allows us to geocode (and even reverse-geocode)."
   ]
  },
  {
   "cell_type": "markdown",
   "metadata": {},
   "source": [
    "### Call Nation Park Service API\n",
    "Below, I attempt to use one call to the NPS API to get all 507 parks, however I always received a 500 response from the server. This means that the server is not able to provide that much data in one response."
   ]
  },
  {
   "cell_type": "code",
   "execution_count": null,
   "metadata": {},
   "outputs": [],
   "source": [
    "APIKey_NPS = \"SdabNsh4xI7eRkDJ2bYDiVLFw3ON91xLTroLainn\"\n",
    "endpoint = \"https://developer.nps.gov/api/v1/parks?\"\n",
    "\n",
    "parameters = {\"api_key\":APIKey_NPS} # limit is arbitrary value larger than total number of parks\n",
    "response = requests.get(endpoint, params=parameters)\n",
    "print(\"response status code: \" + str(response.status_code))\n",
    "data = response.json() # Interpret bytes as JSON format and convert to a Python dict\n",
    "print(data)\n"
   ]
  },
  {
   "cell_type": "markdown",
   "metadata": {},
   "source": [
    "I was able to get around the above issue by making smaller requests to the API in a loop and building a list of the responses as we went along."
   ]
  },
  {
   "cell_type": "code",
   "execution_count": null,
   "metadata": {},
   "outputs": [],
   "source": [
    "APIKey_NPS = \"SdabNsh4xI7eRkDJ2bYDiVLFw3ON91xLTroLainn\"\n",
    "endpoint = \"https://developer.nps.gov/api/v1/parks?\"\n",
    "responseList = [] # store json responses in a list\n",
    "\n",
    "for i in range(0,510, 10): # There are currently 507 parks return, but we need this loop to only get 10 at a time.\n",
    "    parameters = {\"api_key\":APIKey_NPS, 'limit':'10', 'start':str(i)} # limit is arbitrary value larger than total number of parks\n",
    "    response = requests.get(endpoint, params=parameters)\n",
    "    print(\"request #\" + str(i) + \" response status code: \" + str(response.status_code))\n",
    "    data = response.json() # Interpret bytes as JSON format and convert to a Python dict\n",
    "    responseList.append(data[\"data\"])\n",
    "    print(\"length of response list \" + str(len(responseList)))"
   ]
  },
  {
   "cell_type": "markdown",
   "metadata": {},
   "source": [
    "### Convert data to pandas DataFrame\n",
    "Now we can convert the list of responses into a pandas DataFrame. We also store it as a pickle on the hard drive so we don't have to send requests to the sketchy NPS servers anymore."
   ]
  },
  {
   "cell_type": "code",
   "execution_count": null,
   "metadata": {},
   "outputs": [],
   "source": [
    "parks = pd.concat([pd.DataFrame(x) for x in responseList], ignore_index=True) # convert list of json objects to dataframe\n",
    "parks = parks.drop_duplicates() # remove duplicate parks (since we requested 510 and there are only 507)\n",
    "print(parks)\n",
    "parks.to_pickle('all_park_data.pkl')"
   ]
  },
  {
   "cell_type": "markdown",
   "metadata": {},
   "source": [
    "### Visualize data\n",
    "Its important to know what the data looks like so we can do some quick plots. We can see that there are many different types of NPS designations and some overlap with eachother. There are seperate designations for 'National Park', 'National and State Parks', 'National Park & Preserve'. This makes it difficult to sort out the National Parks that may also have other designations."
   ]
  },
  {
   "cell_type": "code",
   "execution_count": null,
   "metadata": {},
   "outputs": [],
   "source": [
    "print(parks.columns)\n",
    "print(parks.shape)\n",
    "\n",
    "print (parks['designation'].value_counts())\n",
    "\n",
    "nationalParks = parks[parks['fullName'].str.contains(\"National Park\")]\n",
    "print(nationalParks.shape)\n",
    "print(nationalParks.fullName)"
   ]
  },
  {
   "cell_type": "markdown",
   "metadata": {},
   "source": [
    "### Processing KML files\n",
    "I found the [List of national parks of the United States](https://en.wikipedia.org/wiki/List_of_national_parks_of_the_United_States) on Wikipedia. Included on this page was a KML file which will have the name and coordinates of each Nationa Park. I am curious how this list compares to the data pulled from the NPS API above."
   ]
  },
  {
   "cell_type": "code",
   "execution_count": 27,
   "metadata": {},
   "outputs": [
    {
     "name": "stdout",
     "output_type": "stream",
     "text": [
      "                               Name                               Point  \\\n",
      "0                            Acadia    POINT (-68.20999999999999 44.35)   \n",
      "1   National Park of American Samoa              POINT (-170.68 -14.25)   \n",
      "2                            Arches               POINT (-109.57 38.68)   \n",
      "3                          Badlands                POINT (-102.5 43.75)   \n",
      "4                          Big Bend               POINT (-103.25 29.25)   \n",
      "5                          Biscayne                POINT (-80.08 25.65)   \n",
      "6      Black Canyon of the Gunnison               POINT (-107.72 38.57)   \n",
      "7                      Bryce Canyon               POINT (-112.18 37.57)   \n",
      "8                       Canyonlands                POINT (-109.93 38.2)   \n",
      "9                      Capitol Reef                POINT (-111.17 38.2)   \n",
      "10                 Carlsbad Caverns               POINT (-104.44 32.17)   \n",
      "11                  Channel Islands               POINT (-119.42 34.01)   \n",
      "12                         Congaree                POINT (-80.78 33.78)   \n",
      "13                      Crater Lake                POINT (-122.1 42.94)   \n",
      "14                  Cuyahoga Valley                POINT (-81.55 41.24)   \n",
      "15                     Death Valley               POINT (-116.82 36.24)   \n",
      "16                           Denali                POINT (-150.5 63.33)   \n",
      "17                     Dry Tortugas                POINT (-82.87 24.63)   \n",
      "18                       Everglades    POINT (-80.93000000000001 25.32)   \n",
      "19              Gates of the Arctic                POINT (-153.3 67.78)   \n",
      "20                     Gateway Arch                POINT (-90.19 38.63)   \n",
      "21                          Glacier                   POINT (-114 48.8)   \n",
      "22                      Glacier Bay                   POINT (-137 58.5)   \n",
      "23                     Grand Canyon               POINT (-112.14 36.06)   \n",
      "24                      Grand Teton                POINT (-110.8 43.73)   \n",
      "25                      Great Basin                POINT (-114.3 38.98)   \n",
      "26                 Great Sand Dunes               POINT (-105.51 37.73)   \n",
      "27            Great Smoky Mountains                POINT (-83.53 35.68)   \n",
      "28              Guadalupe Mountains               POINT (-104.87 31.92)   \n",
      "29                        Haleakalā               POINT (-156.17 20.72)   \n",
      "..                              ...                                 ...   \n",
      "31                      Hot Springs                POINT (-93.05 34.51)   \n",
      "32                    Indiana Dunes  POINT (-87.05240000000001 41.6533)   \n",
      "33                      Isle Royale                 POINT (-88.55 48.1)   \n",
      "34                      Joshua Tree                POINT (-115.9 33.79)   \n",
      "35                           Katmai                   POINT (-155 58.5)   \n",
      "36                     Kenai Fjords               POINT (-149.65 59.92)   \n",
      "37                     Kings Canyon                POINT (-118.55 36.8)   \n",
      "38                     Kobuk Valley               POINT (-159.28 67.55)   \n",
      "39                       Lake Clark               POINT (-153.42 60.97)   \n",
      "40                  Lassen Volcanic               POINT (-121.51 40.49)   \n",
      "41                     Mammoth Cave    POINT (-86.09999999999999 37.18)   \n",
      "42                       Mesa Verde               POINT (-108.49 37.18)   \n",
      "43                    Mount Rainier               POINT (-121.75 46.85)   \n",
      "44                   North Cascades                 POINT (-121.2 48.7)   \n",
      "45                          Olympic                POINT (-123.5 47.97)   \n",
      "46                 Petrified Forest               POINT (-109.78 35.07)   \n",
      "47                        Pinnacles               POINT (-121.16 36.48)   \n",
      "48                          Redwood                   POINT (-124 41.3)   \n",
      "49                   Rocky Mountain                POINT (-105.58 40.4)   \n",
      "50                          Saguaro                POINT (-110.5 32.25)   \n",
      "51                          Sequoia               POINT (-118.68 36.43)   \n",
      "52                       Shenandoah    POINT (-78.34999999999999 38.53)   \n",
      "53               Theodore Roosevelt               POINT (-103.45 46.97)   \n",
      "54                   Virgin Islands                POINT (-64.73 18.33)   \n",
      "55                        Voyageurs                 POINT (-92.88 48.5)   \n",
      "56                        Wind Cave               POINT (-103.48 43.57)   \n",
      "57             Wrangell – St. Elias                     POINT (-142 61)   \n",
      "58                      Yellowstone                 POINT (-110.5 44.6)   \n",
      "59                         Yosemite                POINT (-119.5 37.83)   \n",
      "60                             Zion                POINT (-113.05 37.3)   \n",
      "\n",
      "    Latitude  Longitude  \n",
      "0    44.3500   -68.2100  \n",
      "1   -14.2500  -170.6800  \n",
      "2    38.6800  -109.5700  \n",
      "3    43.7500  -102.5000  \n",
      "4    29.2500  -103.2500  \n",
      "5    25.6500   -80.0800  \n",
      "6    38.5700  -107.7200  \n",
      "7    37.5700  -112.1800  \n",
      "8    38.2000  -109.9300  \n",
      "9    38.2000  -111.1700  \n",
      "10   32.1700  -104.4400  \n",
      "11   34.0100  -119.4200  \n",
      "12   33.7800   -80.7800  \n",
      "13   42.9400  -122.1000  \n",
      "14   41.2400   -81.5500  \n",
      "15   36.2400  -116.8200  \n",
      "16   63.3300  -150.5000  \n",
      "17   24.6300   -82.8700  \n",
      "18   25.3200   -80.9300  \n",
      "19   67.7800  -153.3000  \n",
      "20   38.6300   -90.1900  \n",
      "21   48.8000  -114.0000  \n",
      "22   58.5000  -137.0000  \n",
      "23   36.0600  -112.1400  \n",
      "24   43.7300  -110.8000  \n",
      "25   38.9800  -114.3000  \n",
      "26   37.7300  -105.5100  \n",
      "27   35.6800   -83.5300  \n",
      "28   31.9200  -104.8700  \n",
      "29   20.7200  -156.1700  \n",
      "..       ...        ...  \n",
      "31   34.5100   -93.0500  \n",
      "32   41.6533   -87.0524  \n",
      "33   48.1000   -88.5500  \n",
      "34   33.7900  -115.9000  \n",
      "35   58.5000  -155.0000  \n",
      "36   59.9200  -149.6500  \n",
      "37   36.8000  -118.5500  \n",
      "38   67.5500  -159.2800  \n",
      "39   60.9700  -153.4200  \n",
      "40   40.4900  -121.5100  \n",
      "41   37.1800   -86.1000  \n",
      "42   37.1800  -108.4900  \n",
      "43   46.8500  -121.7500  \n",
      "44   48.7000  -121.2000  \n",
      "45   47.9700  -123.5000  \n",
      "46   35.0700  -109.7800  \n",
      "47   36.4800  -121.1600  \n",
      "48   41.3000  -124.0000  \n",
      "49   40.4000  -105.5800  \n",
      "50   32.2500  -110.5000  \n",
      "51   36.4300  -118.6800  \n",
      "52   38.5300   -78.3500  \n",
      "53   46.9700  -103.4500  \n",
      "54   18.3300   -64.7300  \n",
      "55   48.5000   -92.8800  \n",
      "56   43.5700  -103.4800  \n",
      "57   61.0000  -142.0000  \n",
      "58   44.6000  -110.5000  \n",
      "59   37.8300  -119.5000  \n",
      "60   37.3000  -113.0500  \n",
      "\n",
      "[61 rows x 4 columns]\n"
     ]
    }
   ],
   "source": [
    "import xmltodict\n",
    "\n",
    "# Read KML file into a Python dict\n",
    "with open('national_parks_list_wiki.kml') as fd:\n",
    "    doc = xmltodict.parse(fd.read())\n",
    "\n",
    "# KML Placemarks are stored as a list, so we can iterate over all of them\n",
    "length = len(doc['kml']['Document']['Folder']['Placemark'])\n",
    "#print(length) # The number of National Parks\n",
    "\n",
    "dfParks = pd.DataFrame(columns=['Name','Point', 'Latitude', 'Longitude'])\n",
    "\n",
    "for i in range(length):\n",
    "    name = doc['kml']['Document']['Folder']['Placemark'][i]['name']\n",
    "\n",
    "    rawCoords = doc['kml']['Document']['Folder']['Placemark'][i]['Point']['coordinates']\n",
    "    coords = rawCoords.split(',') # convert string to list[Long,Lat]\n",
    "    coordsFloat = [float(coords[0]), float(coords[1])] # remove height from coords and convert values to float\n",
    "    point = Point(coordsFloat)\n",
    "\n",
    "    dfParks = dfParks.append({'Name':name, 'Point':point, 'Longitude':coordsFloat[0], 'Latitude':coordsFloat[1]}, ignore_index=True)\n",
    "\n",
    "# convert DataFrame to GeoDataFrame\n",
    "gdfParks = geopandas.GeoDataFrame(dfParks, geometry='Point')\n",
    "print gdfParks"
   ]
  },
  {
   "cell_type": "markdown",
   "metadata": {},
   "source": [
    "### Map our National Parks for sanity check\n",
    "We should now map the points that we have parsed to make sure that they make sense. This will also give us practice in mapping using GPS coordinates (Lat, Long)."
   ]
  },
  {
   "cell_type": "code",
   "execution_count": 3,
   "metadata": {},
   "outputs": [
    {
     "data": {
      "text/plain": [
       "Text(22,0.5,'Longitude')"
      ]
     },
     "execution_count": 3,
     "metadata": {},
     "output_type": "execute_result"
    },
    {
     "data": {
      "image/png": "[encoded data removed]",
      "text/plain": [
       "<Figure size 432x288 with 1 Axes>"
      ]
     },
     "metadata": {
      "needs_background": "light"
     },
     "output_type": "display_data"
    }
   ],
   "source": [
    "# Plot the coordinates over a country-level map\n",
    "world = geopandas.read_file(geopandas.datasets.get_path('naturalearth_lowres'))\n",
    "ax = world[world.continent == 'North America'].plot(color='white', edgecolor='black')  # restrict to North America\n",
    "ax.set_title('US National Parks')\n",
    "gdfParks.plot(ax=ax, color='red')\n",
    "plt.xlabel('Latitude')\n",
    "plt.ylabel('Longitude')\n",
    "\n"
   ]
  },
  {
   "cell_type": "markdown",
   "metadata": {},
   "source": [
    "### Plot lines between all national park\n",
    "Below we will test out plotly to easily plot lines between all national parks. Since our GeoDataFrame is in alphabetical order at this point, the lines will be drawn in this order. Later we can order our dataframe to match our Traveling Salesman solution route."
   ]
  },
  {
   "cell_type": "code",
   "execution_count": 65,
   "metadata": {},
   "outputs": [
    {
     "data": {
      "text/html": [
       "<iframe id=\"igraph\" scrolling=\"no\" style=\"border:none;\" seamless=\"seamless\" src=\"https://plot.ly/~swampman/2.embed\" height=\"525px\" width=\"100%\"></iframe>"
      ],
      "text/plain": [
       "<chart_studio.tools.PlotlyDisplay object>"
      ]
     },
     "execution_count": 65,
     "metadata": {},
     "output_type": "execute_result"
    }
   ],
   "source": [
    "import plotly\n",
    "import plotly.plotly as py\n",
    "import plotly.graph_objs as go\n",
    "plotly.tools.set_credentials_file(username='swampman', api_key='Rj1C8ZQfyjwR0QzKrYpI')\n",
    "\n",
    "def get_route_lines(dfRoute, linecolor = 'rgba(66, 134, 244, 0.8)'):\n",
    "    '''\n",
    "    Generates route lines to be plotted on a geographical map with Plotly. \n",
    "    Input an ordered pandas dataframe containing columns: Name, Longitude, and Latitude.\n",
    "    \n",
    "    This function will build route lines between the points in the order they are indexed.\n",
    "    '''\n",
    "    \n",
    "    route_lines = go.Scattergeo(\n",
    "                lat = dfRoute[:]['Latitude'],\n",
    "                lon = dfRoute[:]['Longitude'],\n",
    "                mode='lines+markers+text',\n",
    "                text=dfRoute[:]['Name'],\n",
    "                textposition='top center',\n",
    "                textfont=dict(\n",
    "                    family='sans serif',\n",
    "                    size=12,\n",
    "                    color='black'\n",
    "                ),\n",
    "                marker = dict(\n",
    "                    color = 'rgb(221, 97, 97)',\n",
    "                    size = 8,\n",
    "                    line = dict(\n",
    "                        color = 'blue',\n",
    "                        width = 1)\n",
    "                ),\n",
    "                line = go.scattergeo.Line(width = 2, color = linecolor)) \n",
    "    \n",
    "    return route_lines\n",
    "\n",
    "\n",
    "def get_layout(dfRoute, title=''):\n",
    "    '''\n",
    "    Generates a custom layout for plotting lines between geographic points in Plotly.\n",
    "    '''\n",
    "    # Find min/max Longitude/Lattitude so that we can bound our map in layout\n",
    "    maxLat = max(dfRoute[:]['Latitude'])\n",
    "    minLat = min(dfRoute[:]['Latitude'])\n",
    "    maxLong = max(dfRoute[:]['Longitude'])\n",
    "    minLong = min(dfRoute[:]['Longitude'])\n",
    "    padding = 10 # how from min/max we should expand out\n",
    "    \n",
    "    layout = go.Layout(\n",
    "        title = go.layout.Title(\n",
    "            text = title\n",
    "        ),\n",
    "        showlegend = False,\n",
    "        geo = go.layout.Geo(\n",
    "            resolution = 50,\n",
    "            showland = True,\n",
    "            showlakes = True,\n",
    "            landcolor = 'rgb(204, 204, 204)',\n",
    "            countrycolor = 'rgb(204, 204, 204)',\n",
    "            lakecolor = 'rgb(255, 255, 255)',\n",
    "            projection = go.layout.geo.Projection(\n",
    "                type = \"equirectangular\"\n",
    "            ),\n",
    "            coastlinewidth = 2,\n",
    "            lataxis = go.layout.geo.Lataxis(\n",
    "                range = [minLat-padding, maxLat+padding],\n",
    "                showgrid = True,\n",
    "                dtick = 10\n",
    "            ),\n",
    "            lonaxis = go.layout.geo.Lonaxis(\n",
    "                range = [minLong-padding, maxLong+padding],\n",
    "                showgrid = True,\n",
    "                dtick = 20\n",
    "            ),\n",
    "        )\n",
    "    )\n",
    "    return layout\n",
    "    \n",
    "route_lines = get_route_lines(gdfParks)\n",
    "layout = get_layout(gdfParks, 'Alphabetical Route to all US National Parks [Acadia to Zion]')\n",
    "\n",
    "fig = go.Figure(data = [route_lines], layout = layout)\n",
    "py.iplot(fig, filename = 'alphabetical-route-to-all-national-parks')"
   ]
  },
  {
   "cell_type": "markdown",
   "metadata": {},
   "source": [
    "## Helper functions\n",
    "These functions help solve the Traveling Salesman Problem using the greedy Nearest Neighbor approach."
   ]
  },
  {
   "cell_type": "code",
   "execution_count": 6,
   "metadata": {},
   "outputs": [],
   "source": [
    "def distance_between(location1, location2):\n",
    "    '''Returns rounded integer of number of kilometers (km) between two locations on Earth'''\n",
    "    \n",
    "    #print(location1, location2)\n",
    "    \n",
    "    return round(geodesic((location1['Latitude'], location1['Longitude']),\n",
    "                   (location2['Latitude'], location2['Longitude'])).km)\n",
    "\n",
    "\n",
    "def find_nearest(location, list_of_neighbors):\n",
    "    '''Returns a dict containing the original list Index, Name, and distance-to nearest neighbor'''\n",
    "\n",
    "    if len(list_of_neighbors) is 0:\n",
    "        return {'Index':None, 'Name': None, 'Distance': None}\n",
    "\n",
    "    # Choose first neighbor to calculate distance\n",
    "    currNeighbor = list_of_neighbors[0]\n",
    "    minDistance = distance_between(location, currNeighbor)\n",
    "    \n",
    "    minIndex = 0\n",
    "\n",
    "\n",
    "    for i in range(0,len(list_of_neighbors)): # start at index 1 because we already tested the 0 index neighbor\n",
    "        currNeighbor = list_of_neighbors[i]\n",
    "        currDistance = distance_between(location, currNeighbor)\n",
    "        if currDistance < minDistance:\n",
    "            minIndex = i\n",
    "            minDistance = currDistance\n",
    "\n",
    "    return {'Index':minIndex, 'Place': list_of_neighbors[minIndex], 'Distance':minDistance}"
   ]
  },
  {
   "cell_type": "code",
   "execution_count": 7,
   "metadata": {},
   "outputs": [],
   "source": [
    "def greedy_nearest_neighbor_route(place, unvisited, costThreshold=-1):\n",
    "    '''\n",
    "    This function takes a place and a list of unvisited places.\n",
    "    \n",
    "    It returns the nearest neighbor route to all the unvisited places, as well as the overall\n",
    "    cost of the route.\n",
    "    \n",
    "    The costThreshold parameter is optional and can be set to tell this function to give up\n",
    "    if the overall cost of the route exceeds the threshold. In which case, the incomplete \n",
    "    cost and route will be returned.\n",
    "    '''\n",
    "    totalCost = 0\n",
    "    route = []\n",
    "    route.append(place)\n",
    "    currLocation=place\n",
    "    \n",
    "    for i in range(len(unvisited)):\n",
    "        nearest = find_nearest(currLocation, unvisited) # Note that the return value is not a place\n",
    "        totalCost += nearest['Distance']\n",
    "        route.append(nearest['Place'])\n",
    "        del unvisited[nearest['Index']] # nearest is aware of it's index in unvisited\n",
    "        currLocation = nearest['Place']\n",
    "        \n",
    "        # Give up on the route if minRouteCost is set and we exceeded the threshold\n",
    "        if costThreshold > 0 and totalCost > costThreshold:\n",
    "            return totalCost, route # return what we have so far, may be usefull for the caller\n",
    "\n",
    "    return totalCost, route\n",
    "        "
   ]
  },
  {
   "cell_type": "markdown",
   "metadata": {},
   "source": [
    "### Solve Traveling Salesman with Nearest Neighbor (Greedy) Approach\n",
    "Below we pick a random starting location and solve the Traveling Salesman Problem by always visiting the nearest neighbor. There are a few structures defined below to make this easier.\n",
    "\n",
    "\n",
    "__Place:__ A dictionary will represent a place and contain {Name, Longitude, Latitude}. Really this could be any object with any coordinate system, not just geographic. If a different coordinate system were used, you would only need to modify the distance_between() function and the algorithm should work the same.\n",
    "\n",
    "__Route:__ A list of places is used to represent the nearest neighbor route. The indexes (i) of the route will represent the order in which visitation should occur to replay the final route.\n",
    "<br>Start Location: i = 0\n",
    "<br>End Location: i = len(Route) - 1\n",
    "\n",
    "__Unvisited:__ A list containing all of the unvisited places, excluding the one current place. Upon visiting a new place, we will measure the distance between all unvisited places within the list and then visit the one with minimum distance (cost)."
   ]
  },
  {
   "cell_type": "code",
   "execution_count": 82,
   "metadata": {},
   "outputs": [],
   "source": [
    "unvisited = []\n",
    "\n",
    "# Initialize unvisited List\n",
    "for row in gdfParks.itertuples():\n",
    "    place = {'Name':row.Name,\n",
    "             'Latitude':row.Latitude,\n",
    "             'Longitude':row.Longitude}\n",
    "    unvisited.append(place)\n",
    "\n",
    "# Choose start location and prepare to solve\n",
    "randomInt = random.randint(0,len(unvisited))\n",
    "randomInt = 52\n",
    "place = unvisited.pop(randomInt)\n",
    "\n",
    "cost, route = greedy_nearest_neighbor_route(place, unvisited, costThreshold=-1)"
   ]
  },
  {
   "cell_type": "markdown",
   "metadata": {},
   "source": [
    "### What is the best starting location?\n",
    "The above code is pretty okay, however the cost of the final route changes depending on the starting location. We can get the cost for every starting location and figure out which one is the best (and the worst). \n",
    "\n",
    "Note, this is when we begin to get processor intensive:\n",
    "<br>\n",
    "Outer Loop: O(n)\n",
    "<br>\n",
    "greedy_nearest_neighbor_route(): O(n)\n",
    "<br>\n",
    "find_nearest(): O(n/2)\n",
    "\n",
    "#### Computational Complexity\n",
    "$\n",
    "\\begin{align}\n",
    "O( n^{3})\n",
    "\\end{align}\n",
    "$\n"
   ]
  },
  {
   "cell_type": "code",
   "execution_count": 81,
   "metadata": {},
   "outputs": [
    {
     "name": "stdout",
     "output_type": "stream",
     "text": [
      "Starting location 0: Acadia (46313.0km)\n",
      "Starting location 1: National Park of American Samoa (41378.0km)\n",
      "Starting location 2: Arches (45343.0km)\n",
      "Starting location 3: Badlands (43185.0km)\n",
      "Starting location 4: Big Bend (42449.0km)\n",
      "Starting location 5: Biscayne (44905.0km)\n",
      "Starting location 6: Black Canyon of the Gunnison (45393.0km)\n",
      "Starting location 7: Bryce Canyon (44818.0km)\n",
      "Starting location 8: Canyonlands (45384.0km)\n",
      "Starting location 9: Capitol Reef (44775.0km)\n",
      "Starting location 10: Carlsbad Caverns (42648.0km)\n",
      "Starting location 11: Channel Islands (43040.0km)\n",
      "Starting location 12: Congaree (43794.0km)\n",
      "Starting location 13: Crater Lake (44224.0km)\n",
      "Starting location 14: Cuyahoga Valley (45300.0km)\n",
      "Starting location 15: Death Valley (42928.0km)\n",
      "Starting location 16: Denali (44365.0km)\n",
      "Starting location 17: Dry Tortugas (44775.0km)\n",
      "Starting location 18: Everglades (44998.0km)\n",
      "Starting location 19: Gates of the Arctic (42178.0km)\n",
      "Starting location 20: Gateway Arch (44883.0km)\n",
      "Starting location 21: Glacier (42664.0km)\n",
      "Starting location 22: Glacier Bay (43454.0km)\n",
      "Starting location 23: Grand Canyon (43134.0km)\n",
      "Starting location 24: Grand Teton (41925.0km)\n",
      "Starting location 25: Great Basin (44746.0km)\n",
      "Starting location 26: Great Sand Dunes (45479.0km)\n",
      "Starting location 27: Great Smoky Mountains (41767.0km)\n",
      "Starting location 28: Guadalupe Mountains (42657.0km)\n",
      "Starting location 29: Haleakalā (46793.0km)\n",
      "Starting location 30: Hawaiʻi Volcanoes (46409.0km)\n",
      "Starting location 31: Hot Springs (44583.0km)\n",
      "Starting location 32: Indiana Dunes (45066.0km)\n",
      "Starting location 33: Isle Royale (45802.0km)\n",
      "Starting location 34: Joshua Tree (43170.0km)\n",
      "Starting location 35: Katmai (42417.0km)\n",
      "Starting location 36: Kenai Fjords (42625.0km)\n",
      "Starting location 37: Kings Canyon (42830.0km)\n",
      "Starting location 38: Kobuk Valley (42070.0km)\n",
      "Starting location 39: Lake Clark (42680.0km)\n",
      "Starting location 40: Lassen Volcanic (42760.0km)\n",
      "Starting location 41: Mammoth Cave (41284.0km)\n",
      "Starting location 42: Mesa Verde (43113.0km)\n",
      "Starting location 43: Mount Rainier (43436.0km)\n",
      "Starting location 44: North Cascades (42823.0km)\n",
      "Starting location 45: Olympic (43457.0km)\n",
      "Starting location 46: Petrified Forest (45300.0km)\n",
      "Starting location 47: Pinnacles (43151.0km)\n",
      "Starting location 48: Redwood (42796.0km)\n",
      "Starting location 49: Rocky Mountain (43283.0km)\n",
      "Starting location 50: Saguaro (43729.0km)\n",
      "Starting location 51: Sequoia (42974.0km)\n",
      "Starting location 52: Shenandoah (41524.0km)\n",
      "Starting location 53: Theodore Roosevelt (44831.0km)\n",
      "Starting location 54: Virgin Islands (43356.0km)\n",
      "Starting location 55: Voyageurs (45611.0km)\n",
      "Starting location 56: Wind Cave (43173.0km)\n",
      "Starting location 57: Wrangell – St. Elias (43755.0km)\n",
      "Starting location 58: Yellowstone (42812.0km)\n",
      "Starting location 59: Yosemite (42865.0km)\n",
      "Starting location 60: Zion (44861.0km)\n"
     ]
    }
   ],
   "source": [
    "unvisitedOrig = []\n",
    "startingLocations = pd.DataFrame(columns=['StartLocation', 'Route', 'NearestNeighborCost'])\n",
    "\n",
    "\n",
    "# Initialize unvisited List\n",
    "for row in gdfParks.itertuples():\n",
    "    place = {'Name':row.Name,\n",
    "             'Latitude':row.Latitude,\n",
    "             'Longitude':row.Longitude}\n",
    "    unvisitedOrig.append(place)\n",
    "\n",
    "for i in range(len(unvisitedOrig)):\n",
    "    \n",
    "    unvisited = unvisitedOrig[:]\n",
    "    place = unvisited.pop(i)\n",
    "    cost, route = greedy_nearest_neighbor_route(place, unvisited, costThreshold=-1)\n",
    "    print('Starting location ' + str(i) + ': ' + place['Name'] + ' (' + str(cost) + 'km)')\n",
    "    startingLocations = startingLocations.append({'StartLocation':place['Name'], 'Route':route, 'NearestNeighborCost':cost}, ignore_index=True)"
   ]
  },
  {
   "cell_type": "markdown",
   "metadata": {},
   "source": [
    "### Plotting multiple routes on map\n",
    "We now have the nearest neighbor routes for every starting location! Let's plot these all on one map and see if we notice any patters. We will turn the opacity of the lines down so that we can see when the lines overlap."
   ]
  },
  {
   "cell_type": "code",
   "execution_count": 84,
   "metadata": {},
   "outputs": [
    {
     "data": {
      "text/html": [
       "<iframe id=\"igraph\" scrolling=\"no\" style=\"border:none;\" seamless=\"seamless\" src=\"https://plot.ly/~swampman/12.embed\" height=\"525px\" width=\"100%\"></iframe>"
      ],
      "text/plain": [
       "<chart_studio.tools.PlotlyDisplay object>"
      ]
     },
     "execution_count": 84,
     "metadata": {},
     "output_type": "execute_result"
    }
   ],
   "source": [
    "route_lines1 = get_route_lines(pd.DataFrame(startingLocations.iloc[41]['Route']), linecolor='rgba(200, 244, 66, 0.5)')\n",
    "route_lines2 = get_route_lines(pd.DataFrame(startingLocations.iloc[1]['Route']), linecolor='rgba(25, 0, 255, 0.5)')\n",
    "layout = get_layout(pd.DataFrame(startingLocations.iloc[0]['Route']), 'Multiple Nearest Neighbor Routes to US National Parks (various starting locations)')\n",
    "\n",
    "              \n",
    "fig = go.Figure(data = [route_lines1,route_lines2], layout = layout)\n",
    "py.iplot(fig, filename = 'stacked-route-to-all-national-parks')"
   ]
  },
  {
   "cell_type": "code",
   "execution_count": 85,
   "metadata": {},
   "outputs": [
    {
     "data": {
      "text/html": [
       "<iframe id=\"igraph\" scrolling=\"no\" style=\"border:none;\" seamless=\"seamless\" src=\"https://plot.ly/~swampman/10.embed\" height=\"525px\" width=\"100%\"></iframe>"
      ],
      "text/plain": [
       "<chart_studio.tools.PlotlyDisplay object>"
      ]
     },
     "execution_count": 85,
     "metadata": {},
     "output_type": "execute_result"
    }
   ],
   "source": [
    "route_lines1 = get_route_lines(pd.DataFrame(startingLocations.iloc[41]['Route']), linecolor='blue')\n",
    "#route_lines2 = get_route_lines(pd.DataFrame(startingLocations.iloc[1]['Route']), linecolor='rgba(25, 0, 255, 0.5)')\n",
    "layout = get_layout(pd.DataFrame(startingLocations.iloc[0]['Route']), 'Multiple Nearest Neighbor Routes to US National Parks (various starting locations)')\n",
    "\n",
    "              \n",
    "fig = go.Figure(data = [route_lines1], layout = layout)\n",
    "py.iplot(fig, filename = 'best-starting-pints-route-to-all-national-parks')"
   ]
  },
  {
   "cell_type": "code",
   "execution_count": 80,
   "metadata": {},
   "outputs": [
    {
     "data": {
      "text/html": [
       "<iframe id=\"igraph\" scrolling=\"no\" style=\"border:none;\" seamless=\"seamless\" src=\"https://plot.ly/~swampman/8.embed\" height=\"525px\" width=\"100%\"></iframe>"
      ],
      "text/plain": [
       "<chart_studio.tools.PlotlyDisplay object>"
      ]
     },
     "execution_count": 80,
     "metadata": {},
     "output_type": "execute_result"
    }
   ],
   "source": [
    "route_lines = []\n",
    "\n",
    "for i in range(len(startingLocations)):\n",
    "    currLines = get_route_lines(pd.DataFrame(startingLocations.iloc[i]['Route']), linecolor='rgba(25, 0, 255, 0.025)')\n",
    "    route_lines.append(currLines)\n",
    "layout = get_layout(pd.DataFrame(startingLocations.iloc[0]['Route']), 'Nearest Neighbor Routes to US National Parks (all starting locations)')\n",
    "\n",
    "fig = go.Figure(data = route_lines, layout = layout)\n",
    "py.iplot(fig, filename = 'nearest-neighbor-routes-to-all-national-parks-all-starting-points')"
   ]
  },
  {
   "cell_type": "code",
   "execution_count": 19,
   "metadata": {},
   "outputs": [
    {
     "name": "stdout",
     "output_type": "stream",
     "text": [
      "[{'Latitude': 44.35, 'Name': u'Acadia', 'Longitude': -68.21}, {'Latitude': -14.25, 'Name': u'National Park of American Samoa', 'Longitude': -170.68}, {'Latitude': 38.68, 'Name': u'Arches', 'Longitude': -109.57}, {'Latitude': 43.75, 'Name': u'Badlands', 'Longitude': -102.5}, {'Latitude': 29.25, 'Name': u'Big Bend', 'Longitude': -103.25}]\n",
      "                               Name  Visit_Order\n",
      "2                            Arches            0\n",
      "8                       Canyonlands            1\n",
      "9                      Capitol Reef            2\n",
      "7                      Bryce Canyon            3\n",
      "60                             Zion            4\n",
      "23                     Grand Canyon            5\n",
      "46                 Petrified Forest            6\n",
      "42                       Mesa Verde            7\n",
      "6      Black Canyon of the Gunnison            8\n",
      "26                 Great Sand Dunes            9\n",
      "49                   Rocky Mountain           10\n",
      "56                        Wind Cave           11\n",
      "3                          Badlands           12\n",
      "53               Theodore Roosevelt           13\n",
      "58                      Yellowstone           14\n",
      "24                      Grand Teton           15\n",
      "25                      Great Basin           16\n",
      "15                     Death Valley           17\n",
      "37                     Kings Canyon           18\n",
      "51                          Sequoia           19\n",
      "59                         Yosemite           20\n",
      "47                        Pinnacles           21\n",
      "11                  Channel Islands           22\n",
      "34                      Joshua Tree           23\n",
      "50                          Saguaro           24\n",
      "28              Guadalupe Mountains           25\n",
      "10                 Carlsbad Caverns           26\n",
      "4                          Big Bend           27\n",
      "31                      Hot Springs           28\n",
      "20                     Gateway Arch           29\n",
      "..                              ...          ...\n",
      "27            Great Smoky Mountains           31\n",
      "12                         Congaree           32\n",
      "52                       Shenandoah           33\n",
      "14                  Cuyahoga Valley           34\n",
      "32                    Indiana Dunes           35\n",
      "33                      Isle Royale           36\n",
      "55                        Voyageurs           37\n",
      "21                          Glacier           38\n",
      "44                   North Cascades           39\n",
      "45                          Olympic           40\n",
      "43                    Mount Rainier           41\n",
      "13                      Crater Lake           42\n",
      "48                          Redwood           43\n",
      "40                  Lassen Volcanic           44\n",
      "22                      Glacier Bay           45\n",
      "57             Wrangell – St. Elias           46\n",
      "36                     Kenai Fjords           47\n",
      "39                       Lake Clark           48\n",
      "35                           Katmai           49\n",
      "16                           Denali           50\n",
      "19              Gates of the Arctic           51\n",
      "38                     Kobuk Valley           52\n",
      "29                        Haleakalā           53\n",
      "30                Hawaiʻi Volcanoes           54\n",
      "1   National Park of American Samoa           55\n",
      "17                     Dry Tortugas           56\n",
      "18                       Everglades           57\n",
      "5                          Biscayne           58\n",
      "54                   Virgin Islands           59\n",
      "0                            Acadia           60\n",
      "\n",
      "[61 rows x 2 columns]\n"
     ]
    }
   ],
   "source": [
    "route = []\n",
    "unvisited = []\n",
    "\n",
    "# Initialize unvisited List\n",
    "for row in gdfParks.itertuples():\n",
    "    place = {'Name':row.Name,\n",
    "             'Latitude':row.Latitude,\n",
    "             'Longitude':row.Longitude}\n",
    "    unvisited.append(place)\n",
    "\n",
    "print(unvisited[0:5])\n",
    "# Choose start location and prepare to solve\n",
    "currLocation = unvisited.pop(2)\n",
    "\n",
    "for i in range(len(unvisited)): # Use index loop because unvisited[] will be modified upon each iteration\n",
    "    nearest = find_nearest(location=currLocation, list_of_neighbors=unvisited)\n",
    "    currLocation.update( {'Distance': nearest['Distance']} ) # Add Distance to dictionary\n",
    "    route.append(currLocation)\n",
    "    del unvisited[nearest['Index']]\n",
    "    currLocation = nearest['Place']\n",
    "\n",
    "# Append final location with distance of 0\n",
    "currLocation.update( {'Distance': 0} ) # Add Distance to dictionary\n",
    "route.append(currLocation)\n",
    "\n",
    "# Merge results in original DataFrame\n",
    "dfRoute = pd.DataFrame(route)\n",
    "dfRoute['Visit_Order'] = dfRoute.index\n",
    "gdfShortestParks = gdfParks.merge(dfRoute.set_index('Name'))\n",
    "gdfShortestParks = gdfShortestParks.sort_values('Visit_Order')\n",
    "\n",
    "print(gdfShortestParks.loc[:,['Name','Visit_Order']])"
   ]
  },
  {
   "cell_type": "markdown",
   "metadata": {},
   "source": [
    "### Plot Shortest Route To All US National Parks"
   ]
  },
  {
   "cell_type": "code",
   "execution_count": null,
   "metadata": {},
   "outputs": [],
   "source": [
    "route_lines, layout = plot_route(gdfShortestParks, \n",
    "                                'Shortest Route to all US National Parks')\n",
    "fig = go.Figure(data = route_lines, layout = layout)\n",
    "py.iplot(fig, filename = 'shortest-route-to-all-national-parks')"
   ]
  }
 ],
 "metadata": {
  "kernelspec": {
   "display_name": "Python 2",
   "language": "python",
   "name": "python2"
  },
  "language_info": {
   "codemirror_mode": {
    "name": "ipython",
    "version": 2
   },
   "file_extension": ".py",
   "mimetype": "text/x-python",
   "name": "python",
   "nbconvert_exporter": "python",
   "pygments_lexer": "ipython2",
   "version": "2.7.16"
  }
 },
 "nbformat": 4,
 "nbformat_minor": 2
}
